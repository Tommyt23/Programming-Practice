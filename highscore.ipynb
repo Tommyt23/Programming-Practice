{
 "cells": [
  {
   "cell_type": "code",
   "execution_count": 29,
   "metadata": {},
   "outputs": [],
   "source": [
    "# open highscore file or create a new one if it doesn't exist\n",
    "try:\n",
    "    with open(\"highscore.txt\", \"r\") as f:\n",
    "        print(\"highscore:\", f.readline(1))\n",
    "except:\n",
    "    with open(\"highscore.txt\", \"w\") as f:\n",
    "        f.write(\"-1\")"
   ]
  },
  {
   "cell_type": "code",
   "execution_count": 25,
   "metadata": {},
   "outputs": [],
   "source": [
    "# if the highscore is greater than the current score, replace it \n",
    "def update_score(score):\n",
    "    with open(\"highscore.txt\", \"r\") as f:\n",
    "        highscore = f.readline(1)\n",
    "    highscore = int(highscore)\n",
    "    if score > highscore:\n",
    "        with open(\"highscore.txt\", \"w\") as f:\n",
    "            f.write(str(score))"
   ]
  },
  {
   "cell_type": "code",
   "execution_count": 26,
   "metadata": {},
   "outputs": [],
   "source": [
    "# allow the user to be able to input a score\n",
    "def input_score():\n",
    "    valid = False\n",
    "    while not valid:\n",
    "        try:\n",
    "            score = int(input(\"Enter your score: \"))\n",
    "            valid = True\n",
    "        except:\n",
    "            print(\"Please enter a valid score.\")\n",
    "\n",
    "    update_score(score)\n",
    "\n",
    "input_score()"
   ]
  }
 ],
 "metadata": {
  "kernelspec": {
   "display_name": "Python 3",
   "language": "python",
   "name": "python3"
  },
  "language_info": {
   "codemirror_mode": {
    "name": "ipython",
    "version": 3
   },
   "file_extension": ".py",
   "mimetype": "text/x-python",
   "name": "python",
   "nbconvert_exporter": "python",
   "pygments_lexer": "ipython3",
   "version": "3.10.10"
  },
  "orig_nbformat": 4
 },
 "nbformat": 4,
 "nbformat_minor": 2
}
